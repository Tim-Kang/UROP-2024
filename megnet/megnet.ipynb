{
 "cells": [
  {
   "cell_type": "code",
   "execution_count": 2,
   "metadata": {},
   "outputs": [
    {
     "name": "stdout",
     "output_type": "stream",
     "text": [
      "Epoch 1/10\n",
      "1/1 [==============================] - 16s 16s/step - loss: 10.5242\n",
      "Epoch 2/10\n",
      "1/1 [==============================] - 0s 56ms/step - loss: 10.1777\n",
      "Epoch 3/10\n",
      "1/1 [==============================] - 0s 54ms/step - loss: 9.7940\n",
      "Epoch 4/10\n",
      "1/1 [==============================] - 0s 57ms/step - loss: 9.3480\n",
      "Epoch 5/10\n",
      "1/1 [==============================] - 0s 56ms/step - loss: 8.8209\n",
      "Epoch 6/10\n",
      "1/1 [==============================] - 0s 54ms/step - loss: 8.1928\n",
      "Epoch 7/10\n",
      "1/1 [==============================] - 0s 58ms/step - loss: 7.4406\n",
      "Epoch 8/10\n",
      "1/1 [==============================] - 0s 53ms/step - loss: 6.5385\n",
      "Epoch 9/10\n",
      "1/1 [==============================] - 0s 56ms/step - loss: 5.4596\n",
      "Epoch 10/10\n",
      "1/1 [==============================] - 0s 55ms/step - loss: 4.1878\n"
     ]
    },
    {
     "data": {
      "text/plain": [
       "array([1.5942798], dtype=float32)"
      ]
     },
     "execution_count": 2,
     "metadata": {},
     "output_type": "execute_result"
    }
   ],
   "source": [
    "import os\n",
    "from megnet.models import MEGNetModel\n",
    "from megnet.data.crystal import CrystalGraph\n",
    "import numpy as np\n",
    "from pymatgen.core import Structure\n",
    "\n",
    "nfeat_bond = 10\n",
    "r_cutoff = 5\n",
    "gaussian_centers = np.linspace(0, r_cutoff + 1, nfeat_bond)\n",
    "gaussian_width = 0.5\n",
    "graph_converter = CrystalGraph(cutoff=r_cutoff)\n",
    "model = MEGNetModel(graph_converter=graph_converter, centers=gaussian_centers, width=gaussian_width)\n",
    "\n",
    "# Model training\n",
    "qmof_ids = ['qmof-ffe63dd', 'qmof-fffa2d9']\n",
    "targets = [3.2, 3.3]\n",
    "train_structures = []\n",
    "for i in qmof_ids:\n",
    "    struct = Structure.from_file(f'/home/minhyuk/projects/cif_files/{i}.cif')\n",
    "    train_structures.append(struct) \n",
    "model.train(train_structures=train_structures, train_targets=targets, epochs=10, batch_size= 2)\n",
    "\n",
    "# Predict the property of a new structure\n",
    "pred_target = model.predict_structure(Structure.from_file('/home/minhyuk/projects/cif_files/qmof-fffa2d9.cif'))\n",
    "pred_target\n"
   ]
  },
  {
   "cell_type": "code",
   "execution_count": 5,
   "metadata": {},
   "outputs": [
    {
     "name": "stdout",
     "output_type": "stream",
     "text": [
      "[]\n"
     ]
    }
   ],
   "source": [
    "import tensorflow as tf\n",
    "# gpu check\n",
    "print(tf.config.list_physical_devices('GPU'))"
   ]
  },
  {
   "cell_type": "code",
   "execution_count": 15,
   "metadata": {},
   "outputs": [
    {
     "data": {
      "text/plain": [
       "Structure Summary\n",
       "Lattice\n",
       "    abc : 8.70747530127256 10.80947859224079 12.123751685838725\n",
       " angles : 100.08652585647891 98.77580779771291 105.7533361423692\n",
       " volume : 1056.9026267659583\n",
       "      A : 8.605535922359078 0.0 -1.3284869631498673\n",
       "      B : -3.26175180302437 10.13024672173723 -1.8931201674250173\n",
       "      C : 0.0 0.0 12.123751685838725\n",
       "    pbc : True True True\n",
       "PeriodicSite: Ba (0.4261, 6.1266, -1.4364) [0.2787, 0.6048, 0.0065]\n",
       "PeriodicSite: Ba (4.9177, 4.0036, 10.3385) [0.7213, 0.3952, 0.9935]\n",
       "PeriodicSite: H (4.0423, 0.3578, 1.2418) [0.4831, 0.0353, 0.1609]\n",
       "PeriodicSite: H (1.3016, 9.7724, 7.6603) [0.5169, 0.9647, 0.8391]\n",
       "PeriodicSite: H (-0.7567, 9.6413, -1.0277) [0.2728, 0.9517, 0.0937]\n",
       "PeriodicSite: H (6.1006, 0.4889, 9.9299) [0.7272, 0.0483, 0.9063]\n",
       "PeriodicSite: H (2.6215, 8.3544, 9.1988) [0.6172, 0.8247, 0.9552]\n",
       "PeriodicSite: H (2.7224, 1.7757, -0.2967) [0.3828, 0.1753, 0.0448]\n",
       "PeriodicSite: H (2.7850, 9.7112, -1.7649) [0.6870, 0.9586, 0.0794]\n",
       "PeriodicSite: H (2.5589, 0.4191, 10.6671) [0.3130, 0.0414, 0.9206]\n",
       "PeriodicSite: H (2.5360, 6.0895, 8.0007) [0.5225, 0.6011, 0.8110]\n",
       "PeriodicSite: H (2.8077, 4.0407, 0.9014) [0.4775, 0.3989, 0.1889]\n",
       "PeriodicSite: H (1.1648, 5.6442, 7.4101) [0.3465, 0.5572, 0.7362]\n",
       "PeriodicSite: H (4.1790, 4.4861, 1.4920) [0.6535, 0.4428, 0.2638]\n",
       "PeriodicSite: H (-1.8706, 7.2373, 0.6762) [0.0534, 0.7144, 0.1732]\n",
       "PeriodicSite: H (7.2144, 2.8929, 8.2259) [0.9466, 0.2856, 0.8268]\n",
       "PeriodicSite: H (-0.6648, 8.0118, 1.3035) [0.2225, 0.7909, 0.2554]\n",
       "PeriodicSite: H (6.0085, 2.1184, 7.5986) [0.7775, 0.2091, 0.7446]\n",
       "PeriodicSite: C (1.2622, 3.2402, 9.1945) [0.2679, 0.3199, 0.8377]\n",
       "PeriodicSite: C (4.0814, 6.8900, -0.2923) [0.7321, 0.6801, 0.1623]\n",
       "PeriodicSite: C (1.3803, 2.2903, 7.9350) [0.2461, 0.2261, 0.7168]\n",
       "PeriodicSite: C (3.9635, 7.8399, 0.9672) [0.7539, 0.7739, 0.2832]\n",
       "PeriodicSite: C (-0.0129, 3.9501, 0.9206) [0.1463, 0.3899, 0.1529]\n",
       "PeriodicSite: C (5.3567, 6.1802, 7.9816) [0.8537, 0.6101, 0.8472]\n",
       "PeriodicSite: C (-0.1242, 2.7377, 1.9217) [0.0880, 0.2703, 0.2104]\n",
       "PeriodicSite: C (5.4681, 7.3926, 6.9803) [0.9120, 0.7298, 0.7896]\n",
       "PeriodicSite: C (0.1845, 10.0114, -1.4506) [0.3960, 0.9883, 0.0781]\n",
       "PeriodicSite: C (5.1594, 0.1188, 10.3528) [0.6040, 0.0117, 0.9219]\n",
       "PeriodicSite: C (2.1427, 9.2626, 9.5811) [0.5956, 0.9143, 0.9983]\n",
       "PeriodicSite: C (3.2012, 0.8677, -0.6789) [0.4045, 0.0857, 0.0017]\n",
       "PeriodicSite: Cl (0.3886, 0.8388, 8.1977) [0.0765, 0.0828, 0.6975]\n",
       "PeriodicSite: Cl (4.9553, 9.2913, 0.7046) [0.9235, 0.9172, 0.3025]\n",
       "PeriodicSite: Cl (3.0541, 1.7932, 7.6115) [0.4220, 0.1770, 0.7017]\n",
       "PeriodicSite: Cl (2.2898, 8.3370, 1.2908) [0.5780, 0.8230, 0.2983]\n",
       "PeriodicSite: Cl (0.7630, 3.1944, 6.5144) [0.2082, 0.3153, 0.6094]\n",
       "PeriodicSite: Cl (4.5808, 6.9356, 2.3879) [0.7918, 0.6846, 0.3906]\n",
       "PeriodicSite: Cl (1.1852, 2.7107, 3.1074) [0.2391, 0.2676, 0.3243]\n",
       "PeriodicSite: Cl (4.1585, 7.4197, 5.7948) [0.7608, 0.7324, 0.6757]\n",
       "PeriodicSite: Cl (6.9126, 2.7347, 1.4297) [0.9056, 0.2700, 0.2593]\n",
       "PeriodicSite: Cl (-1.5690, 7.3955, 7.4724) [0.0944, 0.7300, 0.7407]\n",
       "PeriodicSite: Cl (-0.0083, 1.2773, 0.8828) [0.0468, 0.1261, 0.0976]\n",
       "PeriodicSite: Cl (5.3521, 8.8530, 8.0193) [0.9532, 0.8739, 0.9024]\n",
       "PeriodicSite: O (0.8947, 8.8585, -1.9448) [0.4354, 0.8745, 0.0238]\n",
       "PeriodicSite: O (4.4493, 1.2718, 10.8470) [0.5646, 0.1255, 0.9762]\n",
       "PeriodicSite: O (0.0901, 3.6314, 9.4525) [0.1463, 0.3585, 0.8517]\n",
       "PeriodicSite: O (5.2537, 6.4988, -0.5503) [0.8537, 0.6415, 0.1483]\n",
       "PeriodicSite: O (2.3096, 3.5616, 9.7940) [0.4016, 0.3516, 0.9067]\n",
       "PeriodicSite: O (3.0341, 6.5688, -0.8918) [0.5983, 0.6484, 0.0933]\n",
       "PeriodicSite: O (1.1237, 4.4662, 0.7579) [0.2977, 0.4409, 0.1640]\n",
       "PeriodicSite: O (4.2198, 5.6639, 8.1442) [0.7023, 0.5591, 0.8360]\n",
       "PeriodicSite: O (-1.0708, 4.2653, 0.3189) [0.0352, 0.4210, 0.0959]\n",
       "PeriodicSite: O (6.4144, 5.8650, 8.5831) [0.9648, 0.5790, 0.9041]\n",
       "PeriodicSite: O (1.5554, 6.2379, 8.0763) [0.4141, 0.6158, 0.8077]\n",
       "PeriodicSite: O (3.7884, 3.8923, 0.8258) [0.5859, 0.3842, 0.1923]\n",
       "PeriodicSite: O (-0.9556, 7.5885, 0.4806) [0.1729, 0.7491, 0.1756]\n",
       "PeriodicSite: O (6.2993, 2.5418, 8.4215) [0.8271, 0.2509, 0.8244]"
      ]
     },
     "execution_count": 15,
     "metadata": {},
     "output_type": "execute_result"
    }
   ],
   "source": [
    "0.48175633\n",
    "1.1955334\n",
    "1.1453487\n",
    "1.342665\n",
    "0.7595317\n",
    "0.9699276\n",
    "0.64867127\n",
    "1.1369597\n",
    "--------------------------------\n",
    "1.5484892\n",
    "1.1614224\n",
    "\n",
    "1.0647589\n",
    "1.1106082"
   ]
  },
  {
   "cell_type": "code",
   "execution_count": 34,
   "metadata": {},
   "outputs": [
    {
     "data": {
      "text/plain": [
       "[[1, 1]]"
      ]
     },
     "execution_count": 34,
     "metadata": {},
     "output_type": "execute_result"
    }
   ],
   "source": [
    "getattr(struct, 'state')"
   ]
  },
  {
   "cell_type": "code",
   "execution_count": 38,
   "metadata": {},
   "outputs": [
    {
     "name": "stdout",
     "output_type": "stream",
     "text": [
      "Number of GPU cores used: 1\n"
     ]
    }
   ],
   "source": [
    "import torch\n",
    "\n",
    "num_gpu_cores = torch.cuda.device_count()\n",
    "print(f\"Number of GPU cores used: {num_gpu_cores}\")"
   ]
  },
  {
   "cell_type": "code",
   "execution_count": null,
   "metadata": {},
   "outputs": [],
   "source": []
  }
 ],
 "metadata": {
  "kernelspec": {
   "display_name": "megnet",
   "language": "python",
   "name": "python3"
  },
  "language_info": {
   "codemirror_mode": {
    "name": "ipython",
    "version": 3
   },
   "file_extension": ".py",
   "mimetype": "text/x-python",
   "name": "python",
   "nbconvert_exporter": "python",
   "pygments_lexer": "ipython3",
   "version": "3.9.19"
  }
 },
 "nbformat": 4,
 "nbformat_minor": 2
}
